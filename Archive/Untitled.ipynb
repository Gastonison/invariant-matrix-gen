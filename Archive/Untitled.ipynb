{
 "cells": [
  {
   "cell_type": "code",
   "execution_count": 1,
   "metadata": {
    "button": false,
    "new_sheet": false,
    "run_control": {
     "read_only": false
    }
   },
   "outputs": [
    {
     "name": "stdout",
     "output_type": "stream",
     "text": [
      "Pretty printing has been turned OFF\n"
     ]
    }
   ],
   "source": [
    "%pprint"
   ]
  },
  {
   "cell_type": "code",
   "execution_count": 2,
   "metadata": {
    "button": false,
    "new_sheet": false,
    "run_control": {
     "read_only": false
    }
   },
   "outputs": [],
   "source": [
    "import time\n",
    "def f(a,p):\n",
    "    asorted=sorted(a)\n",
    "    L=len(a);c=sum(binomial(p-1+i,i+1) for i in range(L))\n",
    "#     print(asorted)\n",
    "#     print(c-sum(binomial(p-2+L-asorted[i]-i,L-i) for i in range(L)))\n",
    "    return c-sum(binomial(p-2+L-asorted[i]-i,L-i) for i in range(L))"
   ]
  },
  {
   "cell_type": "code",
   "execution_count": 3,
   "metadata": {
    "button": false,
    "new_sheet": false,
    "run_control": {
     "read_only": false
    }
   },
   "outputs": [
    {
     "name": "stdout",
     "output_type": "stream",
     "text": [
      "0 1 2 3 4 5 6 7 8 9 10 11 12 13 14 15 16 17 18 19 20 21 22 23 24 25 26 27 28 29 30 31 32 33 34\n"
     ]
    }
   ],
   "source": [
    "for a1 in [0..4]:\n",
    "    for a2 in [a1..4]:\n",
    "        for a3 in [a2..4]:\n",
    "            print f([a1,a3,a2],5),"
   ]
  },
  {
   "cell_type": "code",
   "execution_count": 4,
   "metadata": {
    "button": false,
    "new_sheet": false,
    "run_control": {
     "read_only": false
    }
   },
   "outputs": [
    {
     "name": "stdout",
     "output_type": "stream",
     "text": [
      "0 1 2 3 4 5 6 7 8 9 10 11 12 13 14 15 16 17 18 19 20 21 22 23 24 25 26 27 28 29 30 31 32 33 34\n"
     ]
    }
   ],
   "source": [
    "for a1 in [0..4]:\n",
    "    for a2 in [a1..4]:\n",
    "        for a3 in [a2..4]:\n",
    "            print f([a1,a3,a2],5),"
   ]
  },
  {
   "cell_type": "code",
   "execution_count": 5,
   "metadata": {
    "button": false,
    "new_sheet": false,
    "run_control": {
     "read_only": false
    }
   },
   "outputs": [
    {
     "name": "stdout",
     "output_type": "stream",
     "text": [
      "0 1 2 3 4 5 6 7 8 9 10 11 12 13 14 15 16 17 18 19 20 21 22 23 24 25 26 27 28 29 30 31 32 33 34\n"
     ]
    }
   ],
   "source": [
    "for aset in Subsets(5-1+3,3):\n",
    "    alist=list(aset);alist.sort();a=[alist[i]-i-1 for i in range(3)] \n",
    "    print f(a,5),"
   ]
  },
  {
   "cell_type": "code",
   "execution_count": 6,
   "metadata": {
    "button": false,
    "new_sheet": false,
    "run_control": {
     "read_only": false
    }
   },
   "outputs": [],
   "source": [
    "def E(n,p): \n",
    "    timerValue = time.time()\n",
    "    nvars=binomial(p-1+n,n)\n",
    "    neqs=1+sum(binomial(p-1+k,k)*binomial(p-1+n-k,n-k) for k in [2]) \n",
    "    M=matrix(QQ,neqs,nvars,sparse=True)\n",
    "    possible_non_zeros = []\n",
    "    eqn=0;j=f([0 for i in [1..n]],p);M[eqn,j]=1\n",
    "    print(j)\n",
    "    possible_non_zeros+=[[eqn, j]]\n",
    "    for k in [2]:\n",
    "        for aset in Subsets(p-1+k,k): \n",
    "            alist=list(aset)\n",
    "            alist.sort()\n",
    "            a=[alist[i]-i-1 for i in range(k)]\n",
    "            for bset in Subsets(p-1+n-k,n-k):\n",
    "                eqn=eqn+1\n",
    "                blist=list(bset);blist.sort();b=[blist[i]-i-1 for i in range(n-k)]\n",
    "                j=f(a+b,p);M[eqn,j]=1\n",
    "                possible_non_zeros+=[[eqn, j]]\n",
    "                for i in range(k):\n",
    "                    anew=[(a[i1]-a[i])%p for i1 in range(k)]\n",
    "                    anew[i]=a[i]\n",
    "                    j=f(anew+b,p)\n",
    "                    M[eqn,j]=M[eqn,j]-1/a.count(a[i])\n",
    "                    possible_non_zeros+=[[eqn, j]]\n",
    "#     print(\"generated matrix time taken:\")\n",
    "#     print(time.time() % timerValue)\n",
    "    return M\n"
   ]
  },
  {
   "cell_type": "code",
   "execution_count": 19,
   "metadata": {
    "button": false,
    "new_sheet": false,
    "run_control": {
     "read_only": false
    }
   },
   "outputs": [
    {
     "name": "stdout",
     "output_type": "stream",
     "text": [
      "0\n",
      "[ 1  0  0  0  0  0  0  0  0  0  0  0  0  0  0]\n",
      "[ 0  0  0  0  0  0  0  0  0  0  0  0  0  0  0]\n",
      "[ 0  0  0  0  0  0  0  0 -1  0  0  0  0  0  0]\n",
      "[ 0  0  0  0  0  0  0  0  0  0 -1  0  0  0  0]\n",
      "[ 0  0  0  0  0  0  0  0  0  0 -1  0  0  0  0]\n",
      "[ 0  0  0  0  0  0  0  0 -1  0  0  0  0  0  0]\n",
      "[ 0 -1  0  0  0  1  0  0  0  0  0  0  0  0  0]\n",
      "[ 0  0  0  0  0 -1  1  0  0  0  0 -1  0  0  0]\n",
      "[ 0  0  0  0  0  0 -1  1  0  0  0  0 -1  0  0]\n",
      "[ 0  0  0  0  0  0  0 -1  1  0  0 -1  0  0  0]\n",
      "[ 0  0 -1  0  0  0  0  0  0  1  0  0  0  0  0]\n",
      "[ 0  0  0  0  0  0 -1  0  0  0  1  0  0 -1  0]\n",
      "[ 0  0  0  0  0  0  0  0  0 -1  0  1  0 -1  0]\n",
      "[ 0  0  0 -1  0  0  0  0  0  0  0  0  1  0  0]\n",
      "[ 0  0  0  0  0  0  0 -1  0  0  0  0  0  1 -1]\n",
      "[ 0  0  0  0 -1  0  0  0  0  0  0  0  0  0  1]\n",
      "0\n",
      "0\n",
      "13\n",
      "2\n"
     ]
    }
   ],
   "source": [
    "p = 5\n",
    "n = 2\n",
    "print(E(n,p))\n",
    "result = binomial(p-1+n, n)-rank(E(n,p)) \n",
    "print(rank(E(n,p)))\n",
    "print(result)"
   ]
  },
  {
   "cell_type": "code",
   "execution_count": 20,
   "metadata": {
    "button": false,
    "new_sheet": false,
    "run_control": {
     "read_only": false
    }
   },
   "outputs": [],
   "source": [
    "def Sol(n,p,P):\n",
    "    result = binomial(p-1+n, n)-rank(E(n,p)) \n",
    "    return result\n"
   ]
  },
  {
   "cell_type": "code",
   "execution_count": 12,
   "metadata": {
    "button": false,
    "new_sheet": false,
    "run_control": {
     "read_only": false
    }
   },
   "outputs": [
    {
     "name": "stdout",
     "output_type": "stream",
     "text": [
      "0\n",
      "(1, 0)\n",
      "0\n",
      "(2, 0)\n",
      "0\n",
      "(3, 0)\n",
      "0\n",
      "(4, 0)\n",
      "0\n",
      "(5, 0)\n",
      "0\n",
      "(6, 0)\n",
      "0\n",
      "(7, 0)\n",
      "0\n",
      "(8, 0)\n",
      "0\n",
      "(9, 1)\n",
      "0\n",
      "(10, 0)\n",
      "0\n",
      "(11, 1)\n",
      "0\n",
      "(12, 2)\n",
      "0\n",
      "(13, 2)\n",
      "0\n",
      "(14, 1)\n",
      "0\n",
      "(15, 5)\n",
      "0\n",
      "(16, 3)\n",
      "0\n",
      "(17, 5)\n",
      "0\n"
     ]
    },
    {
     "ename": "KeyboardInterrupt",
     "evalue": "",
     "output_type": "error",
     "traceback": [
      "\u001b[0;31m---------------------------------------------------------------------------\u001b[0m",
      "\u001b[0;31mKeyboardInterrupt\u001b[0m                         Traceback (most recent call last)",
      "\u001b[0;32m<ipython-input-12-665f7c7b1329>\u001b[0m in \u001b[0;36m<module>\u001b[0;34m()\u001b[0m\n\u001b[1;32m      1\u001b[0m \u001b[0;32mfor\u001b[0m \u001b[0mp\u001b[0m \u001b[0;32min\u001b[0m \u001b[0;34m(\u001b[0m\u001b[0mellipsis_range\u001b[0m\u001b[0;34m(\u001b[0m\u001b[0mInteger\u001b[0m\u001b[0;34m(\u001b[0m\u001b[0;36m1\u001b[0m\u001b[0;34m)\u001b[0m\u001b[0;34m,\u001b[0m\u001b[0mEllipsis\u001b[0m\u001b[0;34m,\u001b[0m\u001b[0mInteger\u001b[0m\u001b[0;34m(\u001b[0m\u001b[0;36m20\u001b[0m\u001b[0;34m)\u001b[0m\u001b[0;34m)\u001b[0m\u001b[0;34m)\u001b[0m\u001b[0;34m:\u001b[0m\u001b[0;34m\u001b[0m\u001b[0m\n\u001b[0;32m----> 2\u001b[0;31m     \u001b[0;32mprint\u001b[0m\u001b[0;34m(\u001b[0m\u001b[0mp\u001b[0m\u001b[0;34m,\u001b[0m \u001b[0mSol\u001b[0m\u001b[0;34m(\u001b[0m\u001b[0mInteger\u001b[0m\u001b[0;34m(\u001b[0m\u001b[0;36m3\u001b[0m\u001b[0;34m)\u001b[0m\u001b[0;34m,\u001b[0m\u001b[0mp\u001b[0m\u001b[0;34m,\u001b[0m\u001b[0mInteger\u001b[0m\u001b[0;34m(\u001b[0m\u001b[0;36m1009\u001b[0m\u001b[0;34m)\u001b[0m\u001b[0;34m)\u001b[0m\u001b[0;34m)\u001b[0m\u001b[0;34m\u001b[0m\u001b[0m\n\u001b[0m",
      "\u001b[0;32m<ipython-input-11-6b8175430d55>\u001b[0m in \u001b[0;36mSol\u001b[0;34m(n, p, P)\u001b[0m\n\u001b[1;32m      1\u001b[0m \u001b[0;32mdef\u001b[0m \u001b[0mSol\u001b[0m\u001b[0;34m(\u001b[0m\u001b[0mn\u001b[0m\u001b[0;34m,\u001b[0m\u001b[0mp\u001b[0m\u001b[0;34m,\u001b[0m\u001b[0mP\u001b[0m\u001b[0;34m)\u001b[0m\u001b[0;34m:\u001b[0m\u001b[0;34m\u001b[0m\u001b[0m\n\u001b[0;32m----> 2\u001b[0;31m     \u001b[0mresult\u001b[0m \u001b[0;34m=\u001b[0m \u001b[0mbinomial\u001b[0m\u001b[0;34m(\u001b[0m\u001b[0mp\u001b[0m\u001b[0;34m-\u001b[0m\u001b[0mInteger\u001b[0m\u001b[0;34m(\u001b[0m\u001b[0;36m1\u001b[0m\u001b[0;34m)\u001b[0m\u001b[0;34m+\u001b[0m\u001b[0mn\u001b[0m\u001b[0;34m,\u001b[0m \u001b[0mn\u001b[0m\u001b[0;34m)\u001b[0m\u001b[0;34m-\u001b[0m\u001b[0mrank\u001b[0m\u001b[0;34m(\u001b[0m\u001b[0mE\u001b[0m\u001b[0;34m(\u001b[0m\u001b[0mn\u001b[0m\u001b[0;34m,\u001b[0m\u001b[0mp\u001b[0m\u001b[0;34m)\u001b[0m\u001b[0;34m)\u001b[0m\u001b[0;34m\u001b[0m\u001b[0m\n\u001b[0m\u001b[1;32m      3\u001b[0m     \u001b[0;32mreturn\u001b[0m \u001b[0mresult\u001b[0m\u001b[0;34m\u001b[0m\u001b[0m\n",
      "\u001b[0;32m/Applications/SageMath-8.8.app/Contents/Resources/sage/local/lib/python2.7/site-packages/sage/misc/functional.pyc\u001b[0m in \u001b[0;36mrank\u001b[0;34m(x)\u001b[0m\n\u001b[1;32m   1487\u001b[0m         \u001b[0;36m1\u001b[0m\u001b[0;34m\u001b[0m\u001b[0m\n\u001b[1;32m   1488\u001b[0m     \"\"\"\n\u001b[0;32m-> 1489\u001b[0;31m     \u001b[0;32mreturn\u001b[0m \u001b[0mx\u001b[0m\u001b[0;34m.\u001b[0m\u001b[0mrank\u001b[0m\u001b[0;34m(\u001b[0m\u001b[0;34m)\u001b[0m\u001b[0;34m\u001b[0m\u001b[0m\n\u001b[0m\u001b[1;32m   1490\u001b[0m \u001b[0;34m\u001b[0m\u001b[0m\n\u001b[1;32m   1491\u001b[0m \u001b[0;34m\u001b[0m\u001b[0m\n",
      "\u001b[0;32m/Applications/SageMath-8.8.app/Contents/Resources/sage/local/lib/python2.7/site-packages/sage/matrix/matrix0.pyx\u001b[0m in \u001b[0;36msage.matrix.matrix0.Matrix.rank (build/cythonized/sage/matrix/matrix0.c:28921)\u001b[0;34m()\u001b[0m\n\u001b[1;32m   4337\u001b[0m         \u001b[0;32mif\u001b[0m \u001b[0mself\u001b[0m\u001b[0;34m.\u001b[0m\u001b[0m_nrows\u001b[0m \u001b[0;34m==\u001b[0m \u001b[0;36m0\u001b[0m \u001b[0;32mor\u001b[0m \u001b[0mself\u001b[0m\u001b[0;34m.\u001b[0m\u001b[0m_ncols\u001b[0m \u001b[0;34m==\u001b[0m \u001b[0;36m0\u001b[0m\u001b[0;34m:\u001b[0m\u001b[0;34m\u001b[0m\u001b[0m\n\u001b[1;32m   4338\u001b[0m             \u001b[0;32mreturn\u001b[0m \u001b[0;36m0\u001b[0m\u001b[0;34m\u001b[0m\u001b[0m\n\u001b[0;32m-> 4339\u001b[0;31m         \u001b[0mr\u001b[0m \u001b[0;34m=\u001b[0m \u001b[0mlen\u001b[0m\u001b[0;34m(\u001b[0m\u001b[0mself\u001b[0m\u001b[0;34m.\u001b[0m\u001b[0mpivots\u001b[0m\u001b[0;34m(\u001b[0m\u001b[0;34m)\u001b[0m\u001b[0;34m)\u001b[0m\u001b[0;34m\u001b[0m\u001b[0m\n\u001b[0m\u001b[1;32m   4340\u001b[0m         \u001b[0mself\u001b[0m\u001b[0;34m.\u001b[0m\u001b[0mcache\u001b[0m\u001b[0;34m(\u001b[0m\u001b[0;34m'rank'\u001b[0m\u001b[0;34m,\u001b[0m \u001b[0mr\u001b[0m\u001b[0;34m)\u001b[0m\u001b[0;34m\u001b[0m\u001b[0m\n\u001b[1;32m   4341\u001b[0m         \u001b[0;32mreturn\u001b[0m \u001b[0mr\u001b[0m\u001b[0;34m\u001b[0m\u001b[0m\n",
      "\u001b[0;32m/Applications/SageMath-8.8.app/Contents/Resources/sage/local/lib/python2.7/site-packages/sage/matrix/matrix0.pyx\u001b[0m in \u001b[0;36msage.matrix.matrix0.Matrix.pivots (build/cythonized/sage/matrix/matrix0.c:28622)\u001b[0;34m()\u001b[0m\n\u001b[1;32m   4294\u001b[0m         \u001b[0mx\u001b[0m \u001b[0;34m=\u001b[0m \u001b[0mself\u001b[0m\u001b[0;34m.\u001b[0m\u001b[0mfetch\u001b[0m\u001b[0;34m(\u001b[0m\u001b[0;34m'pivots'\u001b[0m\u001b[0;34m)\u001b[0m\u001b[0;34m\u001b[0m\u001b[0m\n\u001b[1;32m   4295\u001b[0m         \u001b[0;32mif\u001b[0m \u001b[0;32mnot\u001b[0m \u001b[0mx\u001b[0m \u001b[0;32mis\u001b[0m \u001b[0mNone\u001b[0m\u001b[0;34m:\u001b[0m \u001b[0;32mreturn\u001b[0m \u001b[0mtuple\u001b[0m\u001b[0;34m(\u001b[0m\u001b[0mx\u001b[0m\u001b[0;34m)\u001b[0m\u001b[0;34m\u001b[0m\u001b[0m\n\u001b[0;32m-> 4296\u001b[0;31m         \u001b[0mself\u001b[0m\u001b[0;34m.\u001b[0m\u001b[0mechelon_form\u001b[0m\u001b[0;34m(\u001b[0m\u001b[0;34m)\u001b[0m\u001b[0;34m\u001b[0m\u001b[0m\n\u001b[0m\u001b[1;32m   4297\u001b[0m         \u001b[0mx\u001b[0m \u001b[0;34m=\u001b[0m \u001b[0mself\u001b[0m\u001b[0;34m.\u001b[0m\u001b[0mfetch\u001b[0m\u001b[0;34m(\u001b[0m\u001b[0;34m'pivots'\u001b[0m\u001b[0;34m)\u001b[0m\u001b[0;34m\u001b[0m\u001b[0m\n\u001b[1;32m   4298\u001b[0m         \u001b[0;32mif\u001b[0m \u001b[0mx\u001b[0m \u001b[0;32mis\u001b[0m \u001b[0mNone\u001b[0m\u001b[0;34m:\u001b[0m\u001b[0;34m\u001b[0m\u001b[0m\n",
      "\u001b[0;32m/Applications/SageMath-8.8.app/Contents/Resources/sage/local/lib/python2.7/site-packages/sage/matrix/matrix_rational_sparse.pyx\u001b[0m in \u001b[0;36msage.matrix.matrix_rational_sparse.Matrix_rational_sparse.echelon_form (build/cythonized/sage/matrix/matrix_rational_sparse.c:6946)\u001b[0;34m()\u001b[0m\n\u001b[1;32m    543\u001b[0m         \u001b[0;32mif\u001b[0m \u001b[0mself\u001b[0m\u001b[0;34m.\u001b[0m\u001b[0mfetch\u001b[0m\u001b[0;34m(\u001b[0m\u001b[0;34m'in_echelon_form'\u001b[0m\u001b[0;34m)\u001b[0m\u001b[0;34m:\u001b[0m \u001b[0;32mreturn\u001b[0m \u001b[0mself\u001b[0m\u001b[0;34m\u001b[0m\u001b[0m\n\u001b[1;32m    544\u001b[0m \u001b[0;34m\u001b[0m\u001b[0m\n\u001b[0;32m--> 545\u001b[0;31m         \u001b[0mE\u001b[0m\u001b[0;34m,\u001b[0m \u001b[0mpivots\u001b[0m \u001b[0;34m=\u001b[0m \u001b[0mself\u001b[0m\u001b[0;34m.\u001b[0m\u001b[0m_echelon_form_multimodular\u001b[0m\u001b[0;34m(\u001b[0m\u001b[0mheight_guess\u001b[0m\u001b[0;34m,\u001b[0m \u001b[0mproof\u001b[0m\u001b[0;34m=\u001b[0m\u001b[0mproof\u001b[0m\u001b[0;34m)\u001b[0m\u001b[0;34m\u001b[0m\u001b[0m\n\u001b[0m\u001b[1;32m    546\u001b[0m \u001b[0;34m\u001b[0m\u001b[0m\n\u001b[1;32m    547\u001b[0m         \u001b[0mself\u001b[0m\u001b[0;34m.\u001b[0m\u001b[0mcache\u001b[0m\u001b[0;34m(\u001b[0m\u001b[0mlabel\u001b[0m\u001b[0;34m,\u001b[0m \u001b[0mE\u001b[0m\u001b[0;34m)\u001b[0m\u001b[0;34m\u001b[0m\u001b[0m\n",
      "\u001b[0;32m/Applications/SageMath-8.8.app/Contents/Resources/sage/local/lib/python2.7/site-packages/sage/matrix/matrix_rational_sparse.pyx\u001b[0m in \u001b[0;36msage.matrix.matrix_rational_sparse.Matrix_rational_sparse._echelon_form_multimodular (build/cythonized/sage/matrix/matrix_rational_sparse.c:7438)\u001b[0;34m()\u001b[0m\n\u001b[1;32m    570\u001b[0m         \u001b[0;32mfrom\u001b[0m \u001b[0;34m.\u001b[0m\u001b[0mmisc\u001b[0m \u001b[0;32mimport\u001b[0m \u001b[0mmatrix_rational_echelon_form_multimodular\u001b[0m\u001b[0;34m\u001b[0m\u001b[0m\n\u001b[1;32m    571\u001b[0m         \u001b[0mcdef\u001b[0m \u001b[0mMatrix\u001b[0m \u001b[0mE\u001b[0m\u001b[0;34m\u001b[0m\u001b[0m\n\u001b[0;32m--> 572\u001b[0;31m         E, pivots = matrix_rational_echelon_form_multimodular(self,\n\u001b[0m\u001b[1;32m    573\u001b[0m                                  height_guess=height_guess, proof=proof)\n\u001b[1;32m    574\u001b[0m         \u001b[0mE\u001b[0m\u001b[0;34m.\u001b[0m\u001b[0m_parent\u001b[0m \u001b[0;34m=\u001b[0m \u001b[0mself\u001b[0m\u001b[0;34m.\u001b[0m\u001b[0m_parent\u001b[0m\u001b[0;34m\u001b[0m\u001b[0m\n",
      "\u001b[0;32m/Applications/SageMath-8.8.app/Contents/Resources/sage/local/lib/python2.7/site-packages/sage/matrix/misc.pyx\u001b[0m in \u001b[0;36msage.matrix.misc.matrix_rational_echelon_form_multimodular (build/cythonized/sage/matrix/misc.c:7343)\u001b[0;34m()\u001b[0m\n\u001b[1;32m    406\u001b[0m             \u001b[0;32mfor\u001b[0m \u001b[0mj\u001b[0m \u001b[0;32min\u001b[0m \u001b[0mrange\u001b[0m\u001b[0;34m(\u001b[0m\u001b[0;36m1\u001b[0m\u001b[0;34m,\u001b[0m\u001b[0mlen\u001b[0m\u001b[0;34m(\u001b[0m\u001b[0mY\u001b[0m\u001b[0;34m)\u001b[0m\u001b[0;34m)\u001b[0m\u001b[0;34m:\u001b[0m\u001b[0;34m\u001b[0m\u001b[0m\n\u001b[1;32m    407\u001b[0m                 \u001b[0mL\u001b[0m \u001b[0;34m+=\u001b[0m \u001b[0ma\u001b[0m\u001b[0;34m[\u001b[0m\u001b[0mj\u001b[0m\u001b[0;34m]\u001b[0m\u001b[0;34m*\u001b[0m\u001b[0;34m(\u001b[0m\u001b[0mY\u001b[0m\u001b[0;34m[\u001b[0m\u001b[0mj\u001b[0m\u001b[0;34m]\u001b[0m\u001b[0;34m[\u001b[0m\u001b[0;36m0\u001b[0m\u001b[0;34m]\u001b[0m\u001b[0;34m)\u001b[0m\u001b[0;34m\u001b[0m\u001b[0m\n\u001b[0;32m--> 408\u001b[0;31m             \u001b[0mverbose\u001b[0m\u001b[0;34m(\u001b[0m\u001b[0;34m\"time to take linear combination of matrices over ZZ is\"\u001b[0m\u001b[0;34m,\u001b[0m\u001b[0mt\u001b[0m\u001b[0;34m,\u001b[0m \u001b[0mlevel\u001b[0m\u001b[0;34m=\u001b[0m\u001b[0;36m2\u001b[0m\u001b[0;34m,\u001b[0m \u001b[0mcaller_name\u001b[0m\u001b[0;34m=\u001b[0m\u001b[0;34m\"multimod echelon\"\u001b[0m\u001b[0;34m)\u001b[0m\u001b[0;34m\u001b[0m\u001b[0m\n\u001b[0m\u001b[1;32m    409\u001b[0m             \u001b[0mt\u001b[0m \u001b[0;34m=\u001b[0m \u001b[0mverbose\u001b[0m\u001b[0;34m(\u001b[0m\u001b[0;34m\"now doing rational reconstruction\"\u001b[0m\u001b[0;34m,\u001b[0m \u001b[0mlevel\u001b[0m\u001b[0;34m=\u001b[0m\u001b[0;36m2\u001b[0m\u001b[0;34m,\u001b[0m \u001b[0mcaller_name\u001b[0m\u001b[0;34m=\u001b[0m\u001b[0;34m\"multimod echelon\"\u001b[0m\u001b[0;34m)\u001b[0m\u001b[0;34m\u001b[0m\u001b[0m\n\u001b[1;32m    410\u001b[0m             \u001b[0mE\u001b[0m \u001b[0;34m=\u001b[0m \u001b[0mL\u001b[0m\u001b[0;34m.\u001b[0m\u001b[0mrational_reconstruction\u001b[0m\u001b[0;34m(\u001b[0m\u001b[0mprod\u001b[0m\u001b[0;34m)\u001b[0m\u001b[0;34m\u001b[0m\u001b[0m\n",
      "\u001b[0;32m/Applications/SageMath-8.8.app/Contents/Resources/sage/local/lib/python2.7/site-packages/sage/misc/misc.pyc\u001b[0m in \u001b[0;36mverbose\u001b[0;34m(mesg, t, level, caller_name)\u001b[0m\n\u001b[1;32m    523\u001b[0m \u001b[0;34m\u001b[0m\u001b[0m\n\u001b[1;32m    524\u001b[0m \u001b[0;34m\u001b[0m\u001b[0m\n\u001b[0;32m--> 525\u001b[0;31m \u001b[0;32mdef\u001b[0m \u001b[0mverbose\u001b[0m\u001b[0;34m(\u001b[0m\u001b[0mmesg\u001b[0m\u001b[0;34m=\u001b[0m\u001b[0;34m\"\"\u001b[0m\u001b[0;34m,\u001b[0m \u001b[0mt\u001b[0m\u001b[0;34m=\u001b[0m\u001b[0;36m0\u001b[0m\u001b[0;34m,\u001b[0m \u001b[0mlevel\u001b[0m\u001b[0;34m=\u001b[0m\u001b[0;36m1\u001b[0m\u001b[0;34m,\u001b[0m \u001b[0mcaller_name\u001b[0m\u001b[0;34m=\u001b[0m\u001b[0mNone\u001b[0m\u001b[0;34m)\u001b[0m\u001b[0;34m:\u001b[0m\u001b[0;34m\u001b[0m\u001b[0m\n\u001b[0m\u001b[1;32m    526\u001b[0m     \"\"\"\n\u001b[1;32m    527\u001b[0m     \u001b[0mPrint\u001b[0m \u001b[0ma\u001b[0m \u001b[0mmessage\u001b[0m \u001b[0;32mif\u001b[0m \u001b[0mthe\u001b[0m \u001b[0mcurrent\u001b[0m \u001b[0mverbosity\u001b[0m \u001b[0;32mis\u001b[0m \u001b[0mat\u001b[0m \u001b[0mleast\u001b[0m \u001b[0mlevel\u001b[0m\u001b[0;34m.\u001b[0m\u001b[0;34m\u001b[0m\u001b[0m\n",
      "\u001b[0;32msrc/cysignals/signals.pyx\u001b[0m in \u001b[0;36mcysignals.signals.python_check_interrupt\u001b[0;34m()\u001b[0m\n",
      "\u001b[0;31mKeyboardInterrupt\u001b[0m: "
     ]
    }
   ],
   "source": [
    "for p in [1..20]:\n",
    "    print(p, Sol(3,p,1009))"
   ]
  },
  {
   "cell_type": "code",
   "execution_count": 9,
   "metadata": {
    "button": false,
    "new_sheet": false,
    "run_control": {
     "read_only": false
    }
   },
   "outputs": [],
   "source": [
    "def toSMS(m, possible_nonzeros):\n",
    "#     print(m.nrows())\n",
    "    timerValue = time.time()\n",
    "    f= open(\"bivariant_matrix.sms\",\"w+\")\n",
    "    resultString = \"\"\n",
    "    f.write('{} {} R'.format(m.nrows(), m.ncols()))\n",
    "    f.write('\\n')\n",
    "\n",
    "\n",
    "    print(len(possible_nonzeros))\n",
    "    for t in possible_nonzeros:\n",
    "        r = t[0]\n",
    "        c = t[1]\n",
    "#         print(m[r][c])\n",
    "        if (m[r][c] != 0):\n",
    "            resultString += '{} {} {}'.format(r, c, m[r][c])\n",
    "    print(\"time taken to iterate and append to string\")\n",
    "    print(time.time() % timerValue)\n",
    "    timerValue = time.time()\n",
    "    resultString += '0 0 0'\n",
    "    f.write(resultString)\n",
    "    f.close\n",
    "    print(\"Time taken to write:\")\n",
    "    print(time.time() % timerValue)\n",
    "#     for i in range(10):\n",
    "#      f.write(\"This is line %d\\r\\n\" % (i+1))"
   ]
  },
  {
   "cell_type": "code",
   "execution_count": 10,
   "metadata": {
    "button": false,
    "new_sheet": false,
    "run_control": {
     "read_only": false
    }
   },
   "outputs": [],
   "source": [
    "def dedup(k):\n",
    "    timerValue = time.time()\n",
    "    final_list = [k[0]]\n",
    "    for i in range(len(k)):\n",
    "        if final_list[-1] != k[i]:\n",
    "            final_list += [k[i]]\n",
    "#     print(\"Time taken to dedup:\")\n",
    "#     print(time.time() % timerValue)\n",
    "    return final_list    "
   ]
  },
  {
   "cell_type": "code",
   "execution_count": 91,
   "metadata": {
    "button": false,
    "new_sheet": false,
    "run_control": {
     "read_only": false
    }
   },
   "outputs": [
    {
     "name": "stdout",
     "output_type": "stream",
     "text": [
      "generated matrix time taken:\n",
      "18.4792480469\n",
      "64396\n",
      "time taken to iterate and append to string\n",
      "61.7340300083\n",
      "Time taken to write:\n",
      "0.000868082046509\n"
     ]
    }
   ],
   "source": [
    "m = EW(5, 9)\n",
    "# toSMS(m[0], m[1])"
   ]
  },
  {
   "cell_type": "code",
   "execution_count": null,
   "metadata": {
    "button": false,
    "collapsed": true,
    "new_sheet": false,
    "run_control": {
     "read_only": false
    }
   },
   "outputs": [],
   "source": []
  },
  {
   "cell_type": "code",
   "execution_count": 82,
   "metadata": {
    "button": false,
    "collapsed": true,
    "new_sheet": false,
    "run_control": {
     "read_only": false
    }
   },
   "outputs": [],
   "source": []
  }
 ],
 "metadata": {
  "kernelspec": {
   "display_name": "SageMath 8.8",
   "language": "sage",
   "name": "sagemath"
  },
  "language_info": {
   "codemirror_mode": {
    "name": "ipython",
    "version": 2
   },
   "file_extension": ".py",
   "mimetype": "text/x-python",
   "name": "python",
   "nbconvert_exporter": "python",
   "pygments_lexer": "ipython2",
   "version": "2.7.15"
  }
 },
 "nbformat": 4,
 "nbformat_minor": 2
}
