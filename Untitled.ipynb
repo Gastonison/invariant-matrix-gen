{
 "cells": [
  {
   "cell_type": "code",
   "execution_count": 41,
   "metadata": {},
   "outputs": [],
   "source": [
    "import time"
   ]
  },
  {
   "cell_type": "code",
   "execution_count": 47,
   "metadata": {},
   "outputs": [],
   "source": [
    "def f(a,p):\n",
    "    asorted=sorted(a)\n",
    "    L=len(a);c=sum(binomial(p-1+i,i+1) for i in range(L))\n",
    "    return c-sum(binomial(p-2+L-asorted[i]-i,L-i) for i in range(L))\n",
    "\n",
    "def E(n,p):\n",
    "    nvars=binomial(p-1+n,n)\n",
    "    neqs=1+sum(binomial(p-1+k,k)*binomial(p-1+n-k,n-k) for k in [2])\n",
    "    M=matrix(QQ,neqs,nvars,sparse=True)\n",
    "    eqn=0;j=f([0 for i in [1..n]],p);M[eqn,j]=1\n",
    "    for k in [2]:\n",
    "        for bset in Subsets(p-1+n-k,n-k):\n",
    "            blist=list(bset);blist.sort();b=[blist[i]-i-1 for i in range(n-k)]\n",
    "            for aset in Subsets(p-1+k,k):\n",
    "                eqn=eqn+1\n",
    "                alist=list(aset);alist.sort();a=[alist[i]-i-1 for i in range(k)]\n",
    "                j=f(a+b,p);M[eqn,j]=1\n",
    "                for i in range(k):\n",
    "                    anew=[(a[i1]-a[i])%p for i1 in range(k)];anew[i]=a[i]\n",
    "                    j=f(anew+b,p);M[eqn,j]=M[eqn,j]-1/a.count(a[i])\n",
    "\n",
    "    return M\n"
   ]
  },
  {
   "cell_type": "code",
   "execution_count": null,
   "metadata": {},
   "outputs": [
    {
     "name": "stdout",
     "output_type": "stream",
     "text": [
      "Generating Matrix took: 0.014338016510009766 seconds\n",
      "Calculating Rank took: 0.016169071197509766 seconds\n",
      "0\n",
      "(5, 2)\n",
      "Generating Matrix took: 0.06021595001220703 seconds\n",
      "Calculating Rank took: 0.05054211616516113 seconds\n",
      "0\n",
      "(5, 3)\n",
      "Generating Matrix took: 0.42777299880981445 seconds\n",
      "Calculating Rank took: 0.44165706634521484 seconds\n",
      "0\n",
      "(5, 5)\n",
      "Generating Matrix took: 1.9037423133850098 seconds\n",
      "Calculating Rank took: 1.9862830638885498 seconds\n",
      "0\n",
      "(5, 7)\n",
      "Generating Matrix took: 15.452008962631226 seconds\n",
      "Calculating Rank took: 15.670713901519775 seconds\n",
      "0\n",
      "(5, 11)\n",
      "Generating Matrix took: 33.94106388092041 seconds\n",
      "Calculating Rank took: 36.65900897979736 seconds\n",
      "0\n",
      "(5, 13)\n",
      "Generating Matrix took: 120.04323315620422 seconds\n",
      "Calculating Rank took: 128.226007938385 seconds\n",
      "0\n",
      "(5, 17)\n",
      "Generating Matrix took: 195.17211437225342 seconds\n",
      "Calculating Rank took: 226.68586492538452 seconds\n",
      "0\n",
      "(5, 19)\n",
      "Generating Matrix took: 486.7555720806122 seconds\n",
      "Calculating Rank took: 708.7006869316101 seconds\n",
      "0\n",
      "(5, 23)\n",
      "Generating Matrix took: 1683.337739944458 seconds\n"
     ]
    }
   ],
   "source": [
    "\n",
    "def Sol(n,p,P):\n",
    "    timerValue = time.time()\n",
    "    M = E(n,p)\n",
    "    print(\"Generating Matrix took: {} seconds\".format(time.time() % timerValue))\n",
    "    timerValue = time.time()\n",
    "    rankVal = binomial(p-1+n,n)-rank(E(n,p).change_ring(Integers(next_prime(P))))\n",
    "    print(\"Calculating Rank took: {} seconds\".format(time.time() % timerValue))\n",
    "    return rankVal\n",
    "\n",
    "\n",
    "for p in primes(2,500):\n",
    "    print(Sol(5,p,1009))\n",
    "    print((5,p))\n",
    "    \n",
    "# print(E(3,5).str())\n"
   ]
  },
  {
   "cell_type": "code",
   "execution_count": null,
   "metadata": {},
   "outputs": [],
   "source": []
  },
  {
   "cell_type": "code",
   "execution_count": null,
   "metadata": {},
   "outputs": [],
   "source": []
  },
  {
   "cell_type": "code",
   "execution_count": null,
   "metadata": {},
   "outputs": [],
   "source": []
  },
  {
   "cell_type": "code",
   "execution_count": null,
   "metadata": {},
   "outputs": [],
   "source": []
  },
  {
   "cell_type": "code",
   "execution_count": null,
   "metadata": {},
   "outputs": [],
   "source": []
  },
  {
   "cell_type": "code",
   "execution_count": 14,
   "metadata": {},
   "outputs": [
    {
     "name": "stdout",
     "output_type": "stream",
     "text": [
      "Pretty printing has been turned ON\n"
     ]
    }
   ],
   "source": [
    "%pprint"
   ]
  },
  {
   "cell_type": "code",
   "execution_count": 19,
   "metadata": {},
   "outputs": [
    {
     "name": "stdout",
     "output_type": "stream",
     "text": [
      "'[ 1  0  0  0  0  0  0  0  0  0]\n",
      "[ 0  0  0  0  0  0  0  0  0  0]\n",
      "[ 0  0  0  0 -1  0  0  0  0  0]\n",
      "[ 0  0  0  0 -1  0  0  0  0  0]\n",
      "[ 0 -1  0  1  0  0  0  0  0  0]\n",
      "[ 0  0  0 -1  1 -1  0  0  0  0]\n",
      "[ 0  0 -1  0  0  1  0  0  0  0]\n",
      "[ 0  0  0  0  0  0  0  0  0  0]\n",
      "[ 0  0  0  0  0  0  0 -1  0  0]\n",
      "[ 0  0  0  0  0  0  0 -1  0  0]\n",
      "[ 0  0  0 -1  0  0  1  0  0  0]\n",
      "[ 0  0  0  0  0  0 -1  1 -1  0]\n",
      "[ 0  0  0  0 -1  0  0  0  1  0]\n",
      "[ 0  0  0  0  0  0  0  0  0  0]\n",
      "[ 0  0  0  0  0  0  0  0 -1  0]\n",
      "[ 0  0  0  0  0  0  0  0 -1  0]\n",
      "[ 0  0  0  0 -1  0  0  1  0  0]\n",
      "[ 0  0  0  0  0  0  0 -1  1 -1]\n",
      "[ 0  0  0  0  0 -1  0  0  0  1]\n",
      "[ 0  0  0  0  0  0  0  0  0  0]\n",
      "[ 0  0  0  0  0  0  0  0 -1  0]\n",
      "[ 0  0  0  0  0  0  0 -1  0  0]\n",
      "[ 0  0  0  0 -1  0  0  0  0  0]\n",
      "[ 0  0  0  0  0  0  0 -1 -1  0]\n",
      "[ 0  0  0  0 -1  0  0  0  0  0]\n",
      "[ 0 -1  0  0  0  0  1  0  0  0]\n",
      "[ 0  0  0 -1  0  0  0  1  0 -1]\n",
      "[ 0  0  0  0  0 -1 -1  0  1  0]\n",
      "[ 0  0 -1  0  0  0  0  0  0  1]'\n"
     ]
    }
   ],
   "source": [
    "print(\"'[ 1  0  0  0  0  0  0  0  0  0]\\n[ 0  0  0  0  0  0  0  0  0  0]\\n[ 0  0  0  0 -1  0  0  0  0  0]\\n[ 0  0  0  0 -1  0  0  0  0  0]\\n[ 0 -1  0  1  0  0  0  0  0  0]\\n[ 0  0  0 -1  1 -1  0  0  0  0]\\n[ 0  0 -1  0  0  1  0  0  0  0]\\n[ 0  0  0  0  0  0  0  0  0  0]\\n[ 0  0  0  0  0  0  0 -1  0  0]\\n[ 0  0  0  0  0  0  0 -1  0  0]\\n[ 0  0  0 -1  0  0  1  0  0  0]\\n[ 0  0  0  0  0  0 -1  1 -1  0]\\n[ 0  0  0  0 -1  0  0  0  1  0]\\n[ 0  0  0  0  0  0  0  0  0  0]\\n[ 0  0  0  0  0  0  0  0 -1  0]\\n[ 0  0  0  0  0  0  0  0 -1  0]\\n[ 0  0  0  0 -1  0  0  1  0  0]\\n[ 0  0  0  0  0  0  0 -1  1 -1]\\n[ 0  0  0  0  0 -1  0  0  0  1]\\n[ 0  0  0  0  0  0  0  0  0  0]\\n[ 0  0  0  0  0  0  0  0 -1  0]\\n[ 0  0  0  0  0  0  0 -1  0  0]\\n[ 0  0  0  0 -1  0  0  0  0  0]\\n[ 0  0  0  0  0  0  0 -1 -1  0]\\n[ 0  0  0  0 -1  0  0  0  0  0]\\n[ 0 -1  0  0  0  0  1  0  0  0]\\n[ 0  0  0 -1  0  0  0  1  0 -1]\\n[ 0  0  0  0  0 -1 -1  0  1  0]\\n[ 0  0 -1  0  0  0  0  0  0  1]'\")"
   ]
  },
  {
   "cell_type": "code",
   "execution_count": null,
   "metadata": {},
   "outputs": [],
   "source": []
  }
 ],
 "metadata": {
  "kernelspec": {
   "display_name": "SageMath 9.0",
   "language": "sage",
   "name": "sagemath"
  },
  "language_info": {
   "codemirror_mode": {
    "name": "ipython",
    "version": 3
   },
   "file_extension": ".py",
   "mimetype": "text/x-python",
   "name": "python",
   "nbconvert_exporter": "python",
   "pygments_lexer": "ipython3",
   "version": "3.7.3"
  }
 },
 "nbformat": 4,
 "nbformat_minor": 2
}
