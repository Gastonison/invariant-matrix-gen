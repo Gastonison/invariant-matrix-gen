{
 "cells": [
  {
   "cell_type": "code",
   "execution_count": 28,
   "metadata": {
    "button": false,
    "collapsed": false,
    "deletable": true,
    "new_sheet": false,
    "run_control": {
     "read_only": false
    }
   },
   "outputs": [
    {
     "name": "stdout",
     "output_type": "stream",
     "text": [
      "Pretty printing has been turned OFF\n"
     ]
    }
   ],
   "source": [
    "%pprint"
   ]
  },
  {
   "cell_type": "code",
   "execution_count": 17,
   "metadata": {
    "button": false,
    "collapsed": true,
    "deletable": true,
    "new_sheet": false,
    "run_control": {
     "read_only": false
    }
   },
   "outputs": [],
   "source": [
    "import time\n",
    "def f(a,p):\n",
    "    asorted=sorted(a)\n",
    "    L=len(a);c=sum(binomial(p-1+i,i+1) for i in range(L))\n",
    "    return c-sum(binomial(p-2+L-asorted[i]-i,L-i) for i in range(L))"
   ]
  },
  {
   "cell_type": "code",
   "execution_count": 18,
   "metadata": {
    "button": false,
    "collapsed": false,
    "deletable": true,
    "new_sheet": false,
    "run_control": {
     "read_only": false
    }
   },
   "outputs": [
    {
     "name": "stdout",
     "output_type": "stream",
     "text": [
      "0 1 2 3 4 5 6 7 8 9 10 11 12 13 14 15 16 17 18 19 20 21 22 23 24 25 26 27 28 29 30 31 32 33 34\n"
     ]
    }
   ],
   "source": [
    "for a1 in [0..4]:\n",
    "    for a2 in [a1..4]:\n",
    "        for a3 in [a2..4]:\n",
    "            print f([a1,a3,a2],5),"
   ]
  },
  {
   "cell_type": "code",
   "execution_count": 19,
   "metadata": {
    "button": false,
    "collapsed": false,
    "deletable": true,
    "new_sheet": false,
    "run_control": {
     "read_only": false
    }
   },
   "outputs": [
    {
     "name": "stdout",
     "output_type": "stream",
     "text": [
      "0 1 2 3 4 5 6 7 8 9 10 11 12 13 14 15 16 17 18 19 20 21 22 23 24 25 26 27 28 29 30 31 32 33 34\n"
     ]
    }
   ],
   "source": [
    "for a1 in [0..4]:\n",
    "    for a2 in [a1..4]:\n",
    "        for a3 in [a2..4]:\n",
    "            print f([a1,a3,a2],5),"
   ]
  },
  {
   "cell_type": "code",
   "execution_count": 20,
   "metadata": {
    "button": false,
    "collapsed": false,
    "deletable": true,
    "new_sheet": false,
    "run_control": {
     "read_only": false
    }
   },
   "outputs": [
    {
     "name": "stdout",
     "output_type": "stream",
     "text": [
      "0 1 2 3 4 5 6 7 8 9 10 11 12 13 14 15 16 17 18 19 20 21 22 23 24 25 26 27 28 29 30 31 32 33 34\n"
     ]
    }
   ],
   "source": [
    "for aset in Subsets(5-1+3,3):\n",
    "    alist=list(aset);alist.sort();a=[alist[i]-i-1 for i in range(3)] \n",
    "    print f(a,5),"
   ]
  },
  {
   "cell_type": "code",
   "execution_count": 92,
   "metadata": {
    "button": false,
    "collapsed": true,
    "deletable": true,
    "new_sheet": false,
    "run_control": {
     "read_only": false
    }
   },
   "outputs": [],
   "source": [
    "def E(n,p): \n",
    "    timerValue = time.time()\n",
    "    nvars=binomial(p-1+n,n)\n",
    "    neqs=1+sum(binomial(p-1+k,k)*binomial(p-1+n-k,n-k) for k in [2..n]) \n",
    "    M=matrix(QQ,neqs,nvars,sparse=True)\n",
    "    possible_non_zeros = []\n",
    "    eqn=0;j=f([0 for i in [1..n]],p);M[eqn,j]=1\n",
    "    possible_non_zeros+=[[eqn, j]]\n",
    "    for k in [2..n]:\n",
    "        for aset in Subsets(p-1+k,k): \n",
    "            alist=list(aset)\n",
    "            alist.sort()\n",
    "            a=[alist[i]-i-1 for i in range(k)]\n",
    "            for bset in Subsets(p-1+n-k,n-k):\n",
    "                eqn=eqn+1\n",
    "                blist=list(bset);blist.sort();b=[blist[i]-i-1 for i in range(n-k)]\n",
    "                j=f(a+b,p);M[eqn,j]=1\n",
    "                possible_non_zeros+=[[eqn, j]]\n",
    "                for i in range(k):\n",
    "                    anew=[(a[i1]-a[i])%p for i1 in range(k)]\n",
    "                    anew[i]=a[i]\n",
    "                    j=f(anew+b,p)\n",
    "                    M[eqn,j]=M[eqn,j]-1/a.count(a[i])\n",
    "                    possible_non_zeros+=[[eqn, j]]\n",
    "    print(\"generated matrix time taken:\")\n",
    "    print(time.time() % timerValue)\n",
    "    return (M, dedup(sorted(possible_non_zeros)))\n"
   ]
  },
  {
   "cell_type": "code",
   "execution_count": 82,
   "metadata": {
    "button": false,
    "collapsed": true,
    "deletable": true,
    "new_sheet": false,
    "run_control": {
     "read_only": false
    }
   },
   "outputs": [],
   "source": []
  },
  {
   "cell_type": "code",
   "execution_count": 83,
   "metadata": {
    "button": false,
    "collapsed": true,
    "deletable": true,
    "new_sheet": false,
    "run_control": {
     "read_only": false
    }
   },
   "outputs": [],
   "source": [
    "def Sol(n,p,P):\n",
    "    E(5, 23)\n",
    "    result = binomial(p-1+n, n)-rank(E(n,p).change_ring(Integers(next_prime(P)))) \n",
    "#     print(\"computed rank\")\n",
    "#     print time.time()\n",
    "    return result\n"
   ]
  },
  {
   "cell_type": "code",
   "execution_count": 84,
   "metadata": {
    "button": false,
    "collapsed": false,
    "deletable": true,
    "new_sheet": false,
    "run_control": {
     "read_only": false
    }
   },
   "outputs": [
    {
     "ename": "IndentationError",
     "evalue": "expected an indented block (<ipython-input-84-635a7decc93a>, line 2)",
     "output_type": "error",
     "traceback": [
      "\u001b[0;36m  File \u001b[0;32m\"<ipython-input-84-635a7decc93a>\"\u001b[0;36m, line \u001b[0;32m2\u001b[0m\n\u001b[0;31m    #     print(p, Sol(5,p,1009))\u001b[0m\n\u001b[0m                                 ^\u001b[0m\n\u001b[0;31mIndentationError\u001b[0m\u001b[0;31m:\u001b[0m expected an indented block\n"
     ]
    }
   ],
   "source": [
    "for p in [1..2]:\n",
    "#     print(p, Sol(5,p,1009))"
   ]
  },
  {
   "cell_type": "code",
   "execution_count": 89,
   "metadata": {
    "button": false,
    "collapsed": true,
    "deletable": true,
    "new_sheet": false,
    "run_control": {
     "read_only": false
    }
   },
   "outputs": [],
   "source": [
    "def toSMS(m, possible_nonzeros):\n",
    "#     print(m.nrows())\n",
    "    timerValue = time.time()\n",
    "    f= open(\"bivariant_matrix.sms\",\"w+\")\n",
    "    resultString = \"\"\n",
    "    f.write('{} {} R'.format(m.nrows(), m.ncols()))\n",
    "    f.write('\\n')\n",
    "\n",
    "\n",
    "    print(len(possible_nonzeros))\n",
    "    for t in possible_nonzeros:\n",
    "        r = t[0]\n",
    "        c = t[1]\n",
    "#         print(m[r][c])\n",
    "        if (m[r][c] != 0):\n",
    "            resultString += '{} {} {}'.format(r, c, m[r][c])\n",
    "    print(\"time taken to iterate and append to string\")\n",
    "    print(time.time() % timerValue)\n",
    "    timerValue = time.time()\n",
    "    resultString += '0 0 0'\n",
    "    f.write(resultString)\n",
    "    f.close\n",
    "    print(\"Time taken to write:\")\n",
    "    print(time.time() % timerValue)\n",
    "#     for i in range(10):\n",
    "#      f.write(\"This is line %d\\r\\n\" % (i+1))"
   ]
  },
  {
   "cell_type": "code",
   "execution_count": 90,
   "metadata": {
    "button": false,
    "collapsed": true,
    "deletable": true,
    "new_sheet": false,
    "run_control": {
     "read_only": false
    }
   },
   "outputs": [],
   "source": [
    "def dedup(k):\n",
    "    timerValue = time.time()\n",
    "    final_list = [k[0]]\n",
    "    for i in range(len(k)):\n",
    "        if final_list[-1] != k[i]:\n",
    "            final_list += [k[i]]\n",
    "#     print(\"Time taken to dedup:\")\n",
    "#     print(time.time() % timerValue)\n",
    "    return final_list    "
   ]
  },
  {
   "cell_type": "code",
   "execution_count": 91,
   "metadata": {
    "button": false,
    "collapsed": false,
    "deletable": true,
    "new_sheet": false,
    "run_control": {
     "read_only": false
    }
   },
   "outputs": [
    {
     "name": "stdout",
     "output_type": "stream",
     "text": [
      "generated matrix time taken:\n",
      "18.4792480469\n",
      "64396\n",
      "time taken to iterate and append to string\n",
      "61.7340300083\n",
      "Time taken to write:\n",
      "0.000868082046509\n"
     ]
    }
   ],
   "source": [
    "m = EW(5, 9)\n",
    "# toSMS(m[0], m[1])"
   ]
  },
  {
   "cell_type": "code",
   "execution_count": null,
   "metadata": {
    "button": false,
    "collapsed": true,
    "deletable": true,
    "new_sheet": false,
    "run_control": {
     "read_only": false
    }
   },
   "outputs": [],
   "source": []
  },
  {
   "cell_type": "code",
   "execution_count": 82,
   "metadata": {
    "button": false,
    "collapsed": true,
    "deletable": true,
    "new_sheet": false,
    "run_control": {
     "read_only": false
    }
   },
   "outputs": [],
   "source": []
  }
 ],
 "metadata": {
  "kernelspec": {
   "display_name": "Local Python",
   "language": "python",
   "name": "local"
  },
  "language_info": {
   "codemirror_mode": {
    "name": "ipython",
    "version": 2
   },
   "file_extension": ".py",
   "mimetype": "text/x-python",
   "name": "python",
   "nbconvert_exporter": "python",
   "pygments_lexer": "ipython2",
   "version": "2.7.15"
  }
 },
 "nbformat": 4,
 "nbformat_minor": 2
}
