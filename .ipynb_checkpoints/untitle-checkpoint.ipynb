{
 "cells": [
  {
   "cell_type": "code",
   "execution_count": 46,
   "metadata": {
    "button": false,
    "collapsed": false,
    "deletable": true,
    "new_sheet": false,
    "run_control": {
     "read_only": false
    }
   },
   "outputs": [
    {
     "name": "stdout",
     "output_type": "stream",
     "text": [
      "Pretty printing has been turned ON\n"
     ]
    }
   ],
   "source": [
    "%pprint"
   ]
  },
  {
   "cell_type": "code",
   "execution_count": 47,
   "metadata": {
    "button": false,
    "collapsed": true,
    "deletable": true,
    "new_sheet": false,
    "run_control": {
     "read_only": false
    }
   },
   "outputs": [],
   "source": []
  },
  {
   "cell_type": "code",
   "execution_count": 48,
   "metadata": {
    "button": false,
    "collapsed": false,
    "deletable": true,
    "new_sheet": false,
    "run_control": {
     "read_only": false
    }
   },
   "outputs": [
    {
     "name": "stdout",
     "output_type": "stream",
     "text": [
      "0 1 2 3 4 5 6 7 8 9 10 11 12 13 14 15 16 17 18 19 20 21 22 23 24 25 26 27 28 29 30 31 32 33 34\n"
     ]
    }
   ],
   "source": [
    "for a1 in [0..4]:\n",
    "    for a2 in [a1..4]:\n",
    "        for a3 in [a2..4]:\n",
    "            print f([a1,a3,a2],5),"
   ]
  },
  {
   "cell_type": "code",
   "execution_count": 49,
   "metadata": {
    "button": false,
    "collapsed": false,
    "deletable": true,
    "new_sheet": false,
    "run_control": {
     "read_only": false
    }
   },
   "outputs": [
    {
     "name": "stdout",
     "output_type": "stream",
     "text": [
      "0 1 2 3 4 5 6 7 8 9 10 11 12 13 14 15 16 17 18 19 20 21 22 23 24 25 26 27 28 29 30 31 32 33 34\n"
     ]
    }
   ],
   "source": [
    "for a1 in [0..4]:\n",
    "    for a2 in [a1..4]:\n",
    "        for a3 in [a2..4]:\n",
    "            print f([a1,a3,a2],5),"
   ]
  },
  {
   "cell_type": "code",
   "execution_count": 50,
   "metadata": {
    "button": false,
    "collapsed": false,
    "deletable": true,
    "new_sheet": false,
    "run_control": {
     "read_only": false
    }
   },
   "outputs": [
    {
     "name": "stdout",
     "output_type": "stream",
     "text": [
      "0 1 2 3 4 5 6 7 8 9 10 11 12 13 14 15 16 17 18 19 20 21 22 23 24 25 26 27 28 29 30 31 32 33 34\n"
     ]
    }
   ],
   "source": [
    "for aset in Subsets(5-1+3,3):\n",
    "    alist=list(aset);alist.sort();a=[alist[i]-i-1 for i in range(3)] \n",
    "    print f(a,5),"
   ]
  },
  {
   "cell_type": "code",
   "execution_count": 51,
   "metadata": {
    "button": false,
    "collapsed": true,
    "deletable": true,
    "new_sheet": false,
    "run_control": {
     "read_only": false
    }
   },
   "outputs": [],
   "source": [
    "def E(n,p): \n",
    "    timerValue = time.time()\n",
    "    nvars=binomial(p-1+n,n)\n",
    "    neqs=1+sum(binomial(p-1+k,k)*binomial(p-1+n-k,n-k) for k in [2..n]) \n",
    "    M=matrix(QQ,neqs,nvars,sparse=True)\n",
    "    possible_non_zeros = []\n",
    "    eqn=0;j=f([0 for i in [1..n]],p);M[eqn,j]=1\n",
    "    possible_non_zeros+=[[eqn, j]]\n",
    "    for k in [2..n]:\n",
    "        for aset in Subsets(p-1+k,k): \n",
    "            alist=list(aset)\n",
    "            alist.sort()\n",
    "            a=[alist[i]-i-1 for i in range(k)]\n",
    "            for bset in Subsets(p-1+n-k,n-k):\n",
    "                eqn=eqn+1\n",
    "                blist=list(bset);blist.sort();b=[blist[i]-i-1 for i in range(n-k)]\n",
    "                j=f(a+b,p);M[eqn,j]=1\n",
    "                possible_non_zeros+=[[eqn, j]]\n",
    "                for i in range(k):\n",
    "                    anew=[(a[i1]-a[i])%p for i1 in range(k)]\n",
    "                    anew[i]=a[i]\n",
    "                    j=f(anew+b,p)\n",
    "                    M[eqn,j]=M[eqn,j]-1/a.count(a[i])\n",
    "                    if M[eqn, j] >= 1 or M[eqn, j] < 0:\n",
    "                        possible_non_zeros+=[[eqn, j]]\n",
    "    print(\"generated matrix time taken:\")\n",
    "    print(time.time() % timerValue)\n",
    "    return (M, dedup(sorted(possible_non_zeros)))\n"
   ]
  },
  {
   "cell_type": "code",
   "execution_count": 52,
   "metadata": {
    "button": false,
    "collapsed": true,
    "deletable": true,
    "new_sheet": false,
    "run_control": {
     "read_only": false
    }
   },
   "outputs": [],
   "source": [
    "def ES(n,p): \n",
    "    timerValue = time.time()\n",
    "    nvars=binomial(p-1+n,n)\n",
    "    neqs=1+sum(binomial(p-1+k,k)*binomial(p-1+n-k,n-k) for k in [2..n]) \n",
    "    M=matrix(QQ,neqs,nvars,sparse=True)\n",
    "    possible_non_zeros = []\n",
    "    eqn=0;j=f([0 for i in [1..n]],p);M[eqn,j]=1\n",
    "    possible_non_zeros+=[[eqn, j]]\n",
    "    for k in [2..n]:\n",
    "        for aset in Subsets(p-1+k,k): \n",
    "            alist=list(aset)\n",
    "            alist.sort()\n",
    "            a=[alist[i]-i-1 for i in range(k)]\n",
    "            for bset in Subsets(p-1+n-k,n-k):\n",
    "                eqn=eqn+1\n",
    "                blist=list(bset);blist.sort();b=[blist[i]-i-1 for i in range(n-k)]\n",
    "                j=f(a+b,p);M[eqn,j]=1\n",
    "                possible_non_zeros+=[[eqn, j]]\n",
    "                for i in range(k):\n",
    "                    anew=[(a[i1]-a[i])%p for i1 in range(k)]\n",
    "                    anew[i]=a[i]\n",
    "                    j=f(anew+b,p)\n",
    "                    M[eqn,j]=M[eqn,j]-1/a.count(a[i])\n",
    "                    if M[eqn, j] >= 1 or M[eqn, j] < 0:\n",
    "                        possible_non_zeros+=[[eqn, j]]\n",
    "    print(\"generated matrix time taken:\")\n",
    "    print(time.time() % timerValue)\n",
    "    return (M)\n"
   ]
  },
  {
   "cell_type": "code",
   "execution_count": 70,
   "metadata": {
    "button": false,
    "collapsed": true,
    "deletable": true,
    "new_sheet": false,
    "run_control": {
     "read_only": false
    }
   },
   "outputs": [],
   "source": [
    "def EW(n,p): \n",
    "    timerValue = time.time()\n",
    "    nvars=binomial(p-1+n,n)\n",
    "    neqs=1+sum(binomial(p-1+k,k)*binomial(p-1+n-k,n-k) for k in [2..n]) \n",
    "    M=matrix(QQ,neqs,nvars,sparse=False)\n",
    "    possible_non_zeros = []\n",
    "    eqn=0;j=f([0 for i in [1..n]],p);M[eqn,j]=1\n",
    "    possible_non_zeros+=[[eqn, j]]\n",
    "    \n",
    "    filesms= open(\"bivariant_matrix.sms\",\"w+\")\n",
    "    filesms.write('{} {} R'.format(M.nrows(), M.ncols()))\n",
    "    filesms.write('\\n')\n",
    "    resultString = \"0 0 0\\n\"\n",
    "    \n",
    "    for k in [2..n]:\n",
    "        for aset in Subsets(p-1+k,k): \n",
    "            alist=list(aset)\n",
    "            alist.sort()\n",
    "            a=[alist[i]-i-1 for i in range(k)]\n",
    "            for bset in Subsets(p-1+n-k,n-k):\n",
    "                eqn=eqn+1\n",
    "                blist=list(bset);blist.sort();b=[blist[i]-i-1 for i in range(n-k)]\n",
    "                j=f(a+b,p);M[eqn,j]=1\n",
    "#                 possible_non_zeros+=[[eqn, j]]\n",
    "                non_zero_columns=[j]\n",
    "                for i in range(k):\n",
    "                    anew=[(a[i1]-a[i])%p for i1 in range(k)]\n",
    "                    anew[i]=a[i]\n",
    "                    j=f(anew+b,p)\n",
    "                    non_zero_columns+=[j]\n",
    "                    M[eqn,j]=M[eqn,j]-1/a.count(a[i])\n",
    "#                     possible_non_zeros+=[[eqn, j]]\n",
    "#                 for col in dedup(sorted(non_zero_columns)):\n",
    "#                     if M[eqn, col] != 0:\n",
    "#                         resultString += '%d %d %d\\n' % (eqn, col, M[eqn][col])\n",
    "    print(\"generated matrix time taken:\")\n",
    "    print(time.time() % timerValue)\n",
    "    \n",
    "    resultString += '0 0 0'\n",
    "    filesms.write(resultString)\n",
    "    filesms.close\n",
    "#     dedup(sorted(possible_non_zeros))\n",
    "    \n",
    "    return (M)"
   ]
  },
  {
   "cell_type": "code",
   "execution_count": 54,
   "metadata": {
    "button": false,
    "collapsed": true,
    "deletable": true,
    "new_sheet": false,
    "run_control": {
     "read_only": false
    }
   },
   "outputs": [],
   "source": [
    "def Sol(n,p,P):\n",
    "    timerValue = time.time()\n",
    "    print(rank(ES(n,p)))\n",
    "    result = binomial(p-1+n, n)-rank(ES(n,p).change_ring(Integers(next_prime(P)))) \n",
    "    print(\"time taken to Compute rank\")\n",
    "    print(time.time() % timerValue)\n",
    "    return result\n"
   ]
  },
  {
   "cell_type": "code",
   "execution_count": 55,
   "metadata": {
    "button": false,
    "collapsed": false,
    "deletable": true,
    "new_sheet": false,
    "run_control": {
     "read_only": false
    }
   },
   "outputs": [
    {
     "ename": "IndentationError",
     "evalue": "expected an indented block (<ipython-input-55-635a7decc93a>, line 2)",
     "output_type": "error",
     "traceback": [
      "\u001b[0;36m  File \u001b[0;32m\"<ipython-input-55-635a7decc93a>\"\u001b[0;36m, line \u001b[0;32m2\u001b[0m\n\u001b[0;31m    #     print(p, Sol(5,p,1009))\u001b[0m\n\u001b[0m                                 ^\u001b[0m\n\u001b[0;31mIndentationError\u001b[0m\u001b[0;31m:\u001b[0m expected an indented block\n"
     ]
    }
   ],
   "source": [
    "for p in [1..2]:\n",
    "#     print(p, Sol(5,p,1009))"
   ]
  },
  {
   "cell_type": "code",
   "execution_count": 56,
   "metadata": {
    "button": false,
    "collapsed": true,
    "deletable": true,
    "new_sheet": false,
    "run_control": {
     "read_only": false
    }
   },
   "outputs": [],
   "source": [
    "def toSMS(m, possible_nonzeros):\n",
    "    print(\"sms\")\n",
    "    timerValue = time.time()\n",
    "    f= open(\"bivariant_matrix.sms\",\"w+\")\n",
    "    resultString = \"\"\n",
    "    f.write('{} {} R'.format(m.nrows(), m.ncols()))\n",
    "    f.write('\\n')\n",
    "    for t in possible_nonzeros:\n",
    "        r = t[0]\n",
    "        c = t[1]\n",
    "#         print(m[r][c])\n",
    "        if (m[r][c] != 0):\n",
    "            resultString += \"{} {} {}\\n\".format(r, c, m[r][c])\n",
    "    print(\"time taken to iterate and append to string\")\n",
    "    print(time.time() % timerValue)\n",
    "    timerValue = time.time()\n",
    "    resultString += '0 0 0'\n",
    "    f.write(resultString)\n",
    "    f.close\n",
    "    print(\"Time taken to write:\")\n",
    "    print(time.time() % timerValue)\n",
    "#     for i in range(10):\n",
    "#      f.write(\"This is line %d\\r\\n\" % (i+1))"
   ]
  },
  {
   "cell_type": "code",
   "execution_count": 57,
   "metadata": {
    "button": false,
    "collapsed": true,
    "deletable": true,
    "new_sheet": false,
    "run_control": {
     "read_only": false
    }
   },
   "outputs": [],
   "source": [
    "def dedup(k):\n",
    "    timerValue = time.time()\n",
    "    final_list = [k[0]]\n",
    "    for i in range(len(k)):\n",
    "        if final_list[-1] != k[i]:\n",
    "            final_list += [k[i]]\n",
    "#     print(\"Time taken to dedup:\")\n",
    "#     print(time.time() % timerValue)\n",
    "    return final_list    "
   ]
  },
  {
   "cell_type": "code",
   "execution_count": 92,
   "metadata": {
    "button": false,
    "collapsed": true,
    "deletable": true,
    "new_sheet": false,
    "run_control": {
     "read_only": false
    }
   },
   "outputs": [],
   "source": [
    "n = 0\n",
    "p = 0\n",
    "result_matrix\n",
    "\n",
    "def generate_matrix(n_val, p_val):\n",
    "    #sets global variables\n",
    "    global n, p, result_matrix\n",
    "    n = n_val\n",
    "    p = p_val\n",
    "    \n",
    "    result_matrix = generate_initial_matrix()\n",
    "    timerValue = time.time()\n",
    "    populate_matrix()\n",
    "    print(\"generated matrix time taken:\")\n",
    "    print(time.time() % timerValue)\n",
    "    return result_matrix\n",
    "    \n",
    "def enumerate_permutation(perm):\n",
    "    sorted_perm=sorted(perm)\n",
    "    size=len(a)\n",
    "    c=sum(binomial(p-1+i,i+1) for i in range(size))\n",
    "    return c-sum(binomial(p-2+size-sorted_perm[i]-i,size-i) for i in range(size))\n",
    "\n",
    "def generate_initial_matrix():\n",
    "    print(n)\n",
    "    print(p)\n",
    "    nvars=binomial(p-1+n,n)\n",
    "    neqs=1+sum(binomial(p-1+k,k)*binomial(p-1+n-k,n-k) for k in [2..n]) \n",
    "    M=matrix(QQ,neqs,nvars,sparse=False)\n",
    "    eqn=0;j=f([0 for i in [1..n]],p);M[eqn,j]=1\n",
    "    return M\n",
    "\n",
    "def create_sms_file():\n",
    "    sms_file= open(\"bivariant_matrix.sms\",\"w+\")\n",
    "    sms_file.write('{} {} R'.format(result_matrix.nrows(), result_matrix.ncols()))\n",
    "    sms_file.write('\\n')\n",
    "    return sms_file\n",
    "\n",
    "def calculate_column_values(a, b, k, eqn_row):\n",
    "    for i in range(k):\n",
    "        \n",
    "        # generates values subject to relation for a_i1 in range subtract a from it, then set a_i to the old value \n",
    "        a_generated = [(a[i1]-a[i])%p for i1 in range(k)]\n",
    "        a_generated[i] = a[i]\n",
    "        \n",
    "        # since b permutation isn't effected by the relation above we include it to find the index\n",
    "        j=f(a_generated+b,p)\n",
    "        result_matrix[eqn_row, j]=result_matrix[eqn_row,j]-1/a.count(a[i])\n",
    "        \n",
    "def iterate_permutations(k, handle_permutation):\n",
    "    eqn_row = 0\n",
    "    for aset in Subsets(p-1+k,k): \n",
    "        alist=list(aset)\n",
    "        alist.sort()\n",
    "        a=[alist[i]-i-1 for i in range(k)]\n",
    "        for bset in Subsets(p-1+n-k,n-k):\n",
    "            eqn_row=eqn_row+1\n",
    "            blist=list(bset)\n",
    "            blist.sort()\n",
    "            b=[blist[i]-i-1 for i in range(n-k)]\n",
    "            handle_permutation(a, b, k, eqn_row)\n",
    "        \n",
    "def evaluate_permutation(a, b, k, eqn_row):\n",
    "    j=enumerate_permutation(a+b)\n",
    "    print(eqn_row)\n",
    "    print(j)\n",
    "    print(result_matrix)\n",
    "    result_matrix[eqn_row,j]=1\n",
    "    calculate_column_values(a, b, k, eqn_row)\n",
    "\n",
    "def populate_matrix(): \n",
    "#     sms_file = create_sms_file()\n",
    "    \n",
    "    for k in [2..n]:\n",
    "        iterate_permutations(k, evaluate_permutation)\n",
    "    \n",
    "#     sms_file.write(resultString)\n",
    "#     sms_file.close\n",
    "\n"
   ]
  },
  {
   "cell_type": "code",
   "execution_count": null,
   "metadata": {
    "button": false,
    "collapsed": false,
    "deletable": true,
    "new_sheet": false,
    "run_control": {
     "read_only": false
    }
   },
   "outputs": [
    {
     "name": "stderr",
     "output_type": "stream",
     "text": [
      "IOPub data rate exceeded.\n",
      "The notebook server will temporarily stop sending output\n",
      "to the client in order to avoid crashing it.\n",
      "To change this limit, set the config variable\n",
      "`--NotebookApp.iopub_data_rate_limit`.\n",
      "\n",
      "Current values:\n",
      "NotebookApp.iopub_data_rate_limit=1000000.0 (bytes/sec)\n",
      "NotebookApp.rate_limit_window=3.0 (secs)\n",
      "\n"
     ]
    }
   ],
   "source": [
    "generate_matrix(5, 9)"
   ]
  },
  {
   "cell_type": "code",
   "execution_count": null,
   "metadata": {
    "button": false,
    "collapsed": true,
    "deletable": true,
    "new_sheet": false,
    "run_control": {
     "read_only": false
    }
   },
   "outputs": [],
   "source": []
  }
 ],
 "metadata": {
  "kernelspec": {
   "display_name": "Local Python",
   "language": "python",
   "name": "local"
  },
  "language_info": {
   "codemirror_mode": {
    "name": "ipython",
    "version": 2
   },
   "file_extension": ".py",
   "mimetype": "text/x-python",
   "name": "python",
   "nbconvert_exporter": "python",
   "pygments_lexer": "ipython2",
   "version": "2.7.15"
  }
 },
 "nbformat": 4,
 "nbformat_minor": 2
}
