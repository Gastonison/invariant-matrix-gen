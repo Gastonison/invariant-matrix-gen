{
 "cells": [
  {
   "cell_type": "code",
   "execution_count": 45,
   "metadata": {},
   "outputs": [],
   "source": [
    "def f(a,p):\n",
    "    asorted=sorted(a)\n",
    "    L=len(a);c=sum(binomial(p-1+i,i+1) for i in range(L))\n",
    "    return c-sum(binomial(p-2+L-asorted[i]-i,L-i) for i in range(L))\n",
    "\n",
    "def Eshort(n,p):\n",
    "    nvars=binomial(p-1+n,n)\n",
    "    neqs=1+sum(binomial(p-1+k,k)*binomial(p-1+n-k,n-k) for k in [2])\n",
    "    M=matrix(QQ,neqs,nvars,sparse=True)\n",
    "    eqn=0;j=f([0 for i in [1..n]],p);M[eqn,j]=1\n",
    "    for k in [2]:\n",
    "        for bset in Subsets(p-1+n-k,n-k):\n",
    "            blist=list(bset);blist.sort();b=[blist[i]-i-1 for i in range(n-k)]\n",
    "            for aset in Subsets(p-1+k,k):\n",
    "                eqn=eqn+1\n",
    "                alist=list(aset);alist.sort();a=[alist[i]-i-1 for i in range(k)]\n",
    "                j=f(a+b,p);M[eqn,j]=1\n",
    "                for i in range(k):\n",
    "                    anew=[(a[i1]-a[i])%p for i1 in range(k)];anew[i]=a[i]\n",
    "                    j=f(anew+b,p);\n",
    "                    new_val = M[eqn,j]-1/a.count(a[i])\n",
    "                    M[eqn,j]=new_val\n",
    "                    \n",
    "                    \n",
    "#     print(binomial(p-1+n,n))\n",
    "#     print(p)\n",
    "#     print(rank(M))\n",
    "#     print(\"----------------------\\n\\n\\n\")\n",
    "    return M.echelon_form().transpose().echelon_form()\n",
    "\n",
    "\n",
    "def Sol2(n,p,P): return binomial(p-1+n,n)-rank(Eshort(n,p).change_ring(Integers(next_prime(P-1))))"
   ]
  },
  {
   "cell_type": "code",
   "execution_count": 48,
   "metadata": {
    "scrolled": true
   },
   "outputs": [
    {
     "data": {
      "text/plain": [
       "0"
      ]
     },
     "execution_count": 48,
     "metadata": {},
     "output_type": "execute_result"
    }
   ],
   "source": [
    "Sol2(5,13,1009)\n",
    "\n",
    "# for p in primes(4,5): print(p, Sol2(2,p,1009))"
   ]
  },
  {
   "cell_type": "code",
   "execution_count": null,
   "metadata": {},
   "outputs": [],
   "source": [
    "def f(a,p):\n",
    "    asorted=sorted(a)\n",
    "    L=len(a);c=sum(binomial(p-1+i,i+1) for i in range(L))\n",
    "    return c-sum(binomial(p-2+L-asorted[i]-i,L-i) for i in range(L))\n",
    "\n",
    "def Eshort(n,p):\n",
    "    nvars=binomial(p-1+n,n)\n",
    "    neqs=1+sum(binomial(p-1+k,k)*binomial(p-1+n-k,n-k) for k in [2])\n",
    "    M=matrix(QQ,neqs,nvars,sparse=True)\n",
    "    eqn=0;j=f([0 for i in [1..n]],p);M[eqn,j]=1\n",
    "    for k in [2]:\n",
    "        for bset in Subsets(p-1+n-k,n-k):\n",
    "            blist=list(bset);blist.sort();b=[blist[i]-i-1 for i in range(n-k)]\n",
    "            for aset in Subsets(p-1+k,k):\n",
    "                eqn=eqn+1\n",
    "                alist=list(aset);alist.sort();a=[alist[i]-i-1 for i in range(k)]\n",
    "                j=f(a+b,p);M[eqn,j]=1\n",
    "                for i in range(k):\n",
    "                    anew=[(a[i1]-a[i])%p for i1 in range(k)];anew[i]=a[i]\n",
    "                    j=f(anew+b,p);M[eqn,j]=M[eqn,j]-1/a.count(a[i])\n",
    "    print(M)\n",
    "    print(rank(M))\n",
    "    print(\"----------------------\\n\\n\\n\")\n",
    "    return M\n",
    "\n",
    "\n",
    "def Sol2(n,p,P): return binomial(p-1+n,n)-rank(Eshort(n,p).change_ring(Integers(next_prime(P-1))))"
   ]
  }
 ],
 "metadata": {
  "kernelspec": {
   "display_name": "SageMath 8.8",
   "language": "sage",
   "name": "sagemath"
  },
  "language_info": {
   "codemirror_mode": {
    "name": "ipython",
    "version": 2
   },
   "file_extension": ".py",
   "mimetype": "text/x-python",
   "name": "python",
   "nbconvert_exporter": "python",
   "pygments_lexer": "ipython2",
   "version": "2.7.15"
  }
 },
 "nbformat": 4,
 "nbformat_minor": 2
}
